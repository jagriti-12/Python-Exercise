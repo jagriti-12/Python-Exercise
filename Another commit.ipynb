{
  "nbformat": 4,
  "nbformat_minor": 0,
  "metadata": {
    "colab": {
      "provenance": [],
      "authorship_tag": "ABX9TyN5C6zVPT7hqoboemaTjGoV",
      "include_colab_link": true
    },
    "kernelspec": {
      "name": "python3",
      "display_name": "Python 3"
    },
    "language_info": {
      "name": "python"
    }
  },
  "cells": [
    {
      "cell_type": "markdown",
      "metadata": {
        "id": "view-in-github",
        "colab_type": "text"
      },
      "source": [
        "<a href=\"https://colab.research.google.com/github/jagriti-12/Python-Exercise/blob/main/Another%20commit.ipynb\" target=\"_parent\"><img src=\"https://colab.research.google.com/assets/colab-badge.svg\" alt=\"Open In Colab\"/></a>"
      ]
    },
    {
      "cell_type": "code",
      "execution_count": 1,
      "metadata": {
        "id": "0ukekxoGgJZx",
        "colab": {
          "base_uri": "https://localhost:8080/"
        },
        "outputId": "487d3d5a-1c7d-4aa6-8c2e-fdc56db264f3"
      },
      "outputs": [
        {
          "output_type": "stream",
          "name": "stdout",
          "text": [
            "Python-Exercises :)\n"
          ]
        }
      ],
      "source": [
        "print(\"Python-Exercises :)\")"
      ]
    },
    {
      "cell_type": "code",
      "source": [
        "print(\"Commiting another code in python\")"
      ],
      "metadata": {
        "colab": {
          "base_uri": "https://localhost:8080/"
        },
        "id": "Dt_a0bonx78i",
        "outputId": "0c431360-e21c-47b4-c396-eb71f0e8c294"
      },
      "execution_count": 2,
      "outputs": [
        {
          "output_type": "stream",
          "name": "stdout",
          "text": [
            "Commiting another code in python\n"
          ]
        }
      ]
    }
  ]
}